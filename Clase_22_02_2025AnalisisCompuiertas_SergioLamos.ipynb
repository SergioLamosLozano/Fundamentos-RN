{
  "nbformat": 4,
  "nbformat_minor": 0,
  "metadata": {
    "colab": {
      "provenance": [],
      "authorship_tag": "ABX9TyOPTCQ8REwcBcqHVaFsuXvd",
      "include_colab_link": true
    },
    "kernelspec": {
      "name": "python3",
      "display_name": "Python 3"
    },
    "language_info": {
      "name": "python"
    }
  },
  "cells": [
    {
      "cell_type": "markdown",
      "metadata": {
        "id": "view-in-github",
        "colab_type": "text"
      },
      "source": [
        "<a href=\"https://colab.research.google.com/github/SergioLamosLozano/fundametos-RN/blob/main/Clase_22_02_2025AnalisisCompuiertas_SergioLamos.ipynb\" target=\"_parent\"><img src=\"https://colab.research.google.com/assets/colab-badge.svg\" alt=\"Open In Colab\"/></a>"
      ]
    },
    {
      "cell_type": "markdown",
      "source": [
        "COMPUERTA OR"
      ],
      "metadata": {
        "id": "QDksT2elOtiE"
      }
    },
    {
      "cell_type": "code",
      "source": [
        "#importamos la libreria Numpy (PASO1)\n",
        "import numpy as np #libreria sirve para trabajar con vectores y operaciones matematicas\n",
        "\n",
        "#Paso 2 Crear la clase\n",
        "class MccullochPittsNeuron:\n",
        "  def __init__(self, weights, threshold): #CONSTRUCTOR DE LA NEURONA\n",
        "    self.weights = np.array(weights)  #CLNVERTIMOS LOS PESS EN UN ARRAY DE NUMPY\n",
        "    self.threshold = threshold    # ASIGNAMOS EL UMBRAL DE ACTIVACION\n",
        "\n",
        "  def activate(self, inputs):\n",
        "    inputs = np.array(inputs) #Convertir las entradas en un array de numpy\n",
        "    weighted_sum = np.dot(self.weights, inputs) #Esto toma la suma ponderada\n",
        "    return 1 if weighted_sum >= self.threshold else 0 # Si la suma supera el umbral devuelve 1 si no 0\n",
        "\n",
        "    #Definir pesos y umbral\n",
        "\n",
        "weights = [1, 1] #Pesos de la neurona\n",
        "threshold = 1  #Umbral\n",
        "\n",
        "\n",
        "#CREAR LA NEURONA\n",
        "\n",
        "neuron = MccullochPittsNeuron(weights, threshold)\n",
        "inputs_list = [(1,1),(1,0),(0,1),(0,0)]\n",
        "#Definir ñas entradas (Ejemplo de compuerta logica OR)\n",
        "\n",
        "#Evaluar la neurona\n",
        "print(\"Compuerta LOGICA OR\\n\")\n",
        "for inputs in inputs_list:\n",
        "  output = neuron.activate(inputs)\n",
        "  print(f\"Input: {inputs} Output: {output}\")"
      ],
      "metadata": {
        "colab": {
          "base_uri": "https://localhost:8080/"
        },
        "id": "sh_5-364Oup_",
        "outputId": "6782c210-99c3-4500-857e-429f11b5facb"
      },
      "execution_count": 8,
      "outputs": [
        {
          "output_type": "stream",
          "name": "stdout",
          "text": [
            "Compuerta LOGICA OR\n",
            "\n",
            "Input: (1, 1) Output: 1\n",
            "Input: (1, 0) Output: 1\n",
            "Input: (0, 1) Output: 1\n",
            "Input: (0, 0) Output: 0\n"
          ]
        }
      ]
    },
    {
      "cell_type": "markdown",
      "source": [
        "COMPUERTA AND"
      ],
      "metadata": {
        "id": "VemT1g1eNsqF"
      }
    },
    {
      "cell_type": "code",
      "execution_count": 4,
      "metadata": {
        "colab": {
          "base_uri": "https://localhost:8080/"
        },
        "id": "AF4MejZ4Erh0",
        "outputId": "4e6538e8-7d1f-461a-ee44-d9dbee601eaf"
      },
      "outputs": [
        {
          "output_type": "stream",
          "name": "stdout",
          "text": [
            "Compuerta LOGICA OR\n",
            "\n",
            "Input: (1, 1) Output: 1\n",
            "Input: (1, 0) Output: 0\n",
            "Input: (0, 1) Output: 0\n",
            "Input: (0, 0) Output: 0\n"
          ]
        }
      ],
      "source": [
        "#importamos la libreria Numpy (PASO1)\n",
        "import numpy as np #libreria sirve para trabajar con vectores y operaciones matematicas\n",
        "\n",
        "#Paso 2 Crear la clase\n",
        "class MccullochPittsNeuron:\n",
        "  def __init__(self, weights, threshold): #CONSTRUCTOR DE LA NEURONA\n",
        "    self.weights = np.array(weights)  #CLNVERTIMOS LOS PESS EN UN ARRAY DE NUMPY\n",
        "    self.threshold = threshold    # ASIGNAMOS EL UMBRAL DE ACTIVACION\n",
        "\n",
        "  def activate(self, inputs):\n",
        "    inputs = np.array(inputs) #Convertir las entradas en un array de numpy\n",
        "    weighted_sum = np.dot(self.weights, inputs) #Esto toma la suma ponderada\n",
        "    return 1 if weighted_sum >= self.threshold else 0 # Si la suma supera el umbral devuelve 1 si no 0\n",
        "\n",
        "    #Definir pesos y umbral\n",
        "\n",
        "weights = [1, 1] #Pesos de la neurona\n",
        "threshold = 2  #Umbral\n",
        "\n",
        "\n",
        "#CREAR LA NEURONA\n",
        "\n",
        "neuron = MccullochPittsNeuron(weights, threshold)\n",
        "inputs_list = [(1,1),(1,0),(0,1),(0,0)]\n",
        "#Definir ñas entradas (Ejemplo de compuerta logica OR)\n",
        "\n",
        "#Evaluar la neurona\n",
        "print(\"Compuerta LOGICA OR\\n\")\n",
        "for inputs in inputs_list:\n",
        "  output = neuron.activate(inputs)\n",
        "  print(f\"Input: {inputs} Output: {output}\")"
      ]
    },
    {
      "cell_type": "markdown",
      "source": [
        "COMPUERTA NOT"
      ],
      "metadata": {
        "id": "eaR3eVdMNz5q"
      }
    },
    {
      "cell_type": "code",
      "source": [
        "#importamos la libreria Numpy (PASO1)\n",
        "import numpy as np #libreria sirve para trabajar con vectores y operaciones matematicas\n",
        "\n",
        "#Paso 2 Crear la clase\n",
        "class MccullochPittsNeuron:\n",
        "  def __init__(self, weights, threshold): #CONSTRUCTOR DE LA NEURONA\n",
        "    self.weights = np.array(weights)  #CLNVERTIMOS LOS PESS EN UN ARRAY DE NUMPY\n",
        "    self.threshold = threshold    # ASIGNAMOS EL UMBRAL DE ACTIVACION\n",
        "\n",
        "  def activate(self, inputs):\n",
        "    inputs = np.array(inputs) #Convertir las entradas en un array de numpy\n",
        "    weighted_sum = np.dot(self.weights, inputs) #Esto toma la suma ponderada\n",
        "    return 1 if weighted_sum >= self.threshold else 0 # Si la suma supera el umbral devuelve 1 si no 0\n",
        "\n",
        "    #Definir pesos y umbral\n",
        "\n",
        "weights = [-1] #Pesos de la neurona\n",
        "threshold = 0 #Umbral\n",
        "\n",
        "\n",
        "#CREAR LA NEURONA\n",
        "\n",
        "neuron = MccullochPittsNeuron(weights, threshold)\n",
        "inputs_list = [(1),(0)]\n",
        "#Definir ñas entradas (Ejemplo de compuerta logica OR)\n",
        "\n",
        "#Evaluar la neurona\n",
        "print(\"Compuerta LOGICA NOT\\n\")\n",
        "for inputs in inputs_list:\n",
        "  output = neuron.activate(inputs)\n",
        "  print(f\"Input: {inputs} Output: {output}\")"
      ],
      "metadata": {
        "colab": {
          "base_uri": "https://localhost:8080/"
        },
        "id": "RGtCO-7vMeSj",
        "outputId": "d7afe36f-3340-4034-b4f5-5d5b2538407a"
      },
      "execution_count": 5,
      "outputs": [
        {
          "output_type": "stream",
          "name": "stdout",
          "text": [
            "Compuerta LOGICA OR\n",
            "\n",
            "Input: 1 Output: 0\n",
            "Input: 0 Output: 1\n"
          ]
        }
      ]
    },
    {
      "cell_type": "markdown",
      "source": [
        "COMPUERTA NAND"
      ],
      "metadata": {
        "id": "tK1-eUsCODWV"
      }
    },
    {
      "cell_type": "code",
      "source": [
        "#importamos la libreria Numpy (PASO1)\n",
        "import numpy as np #libreria sirve para trabajar con vectores y operaciones matematicas\n",
        "\n",
        "#Paso 2 Crear la clase\n",
        "class MccullochPittsNeuron:\n",
        "  def __init__(self, weights, threshold): #CONSTRUCTOR DE LA NEURONA\n",
        "    self.weights = np.array(weights)  #CLNVERTIMOS LOS PESS EN UN ARRAY DE NUMPY\n",
        "    self.threshold = threshold    # ASIGNAMOS EL UMBRAL DE ACTIVACION\n",
        "\n",
        "  def activate(self, inputs):\n",
        "    inputs = np.array(inputs) #Convertir las entradas en un array de numpy\n",
        "    weighted_sum = np.dot(self.weights, inputs) #Esto toma la suma ponderada\n",
        "    return 1 if weighted_sum >= self.threshold else 0 # Si la suma supera el umbral devuelve 1 si no 0\n",
        "\n",
        "    #Definir pesos y umbral\n",
        "\n",
        "weights = [-1, -1] #Pesos de la neurona\n",
        "threshold = -1  #Umbral\n",
        "\n",
        "\n",
        "#CREAR LA NEURONA\n",
        "\n",
        "neuron = MccullochPittsNeuron(weights, threshold)\n",
        "inputs_list = [(1,1),(1,0),(0,1),(0,0)]\n",
        "#Definir ñas entradas (Ejemplo de compuerta logica OR)\n",
        "\n",
        "#Evaluar la neurona\n",
        "print(\"Compuerta LOGICA NAND\\n\")\n",
        "for inputs in inputs_list:\n",
        "  output = neuron.activate(inputs)\n",
        "  print(f\"Input: {inputs} Output: {output}\")"
      ],
      "metadata": {
        "colab": {
          "base_uri": "https://localhost:8080/"
        },
        "id": "2-D0ppPqOJTb",
        "outputId": "ea44f5aa-c36b-44b0-bf61-ccdc8f2448aa"
      },
      "execution_count": 6,
      "outputs": [
        {
          "output_type": "stream",
          "name": "stdout",
          "text": [
            "Compuerta LOGICA OR\n",
            "\n",
            "Input: (1, 1) Output: 0\n",
            "Input: (1, 0) Output: 1\n",
            "Input: (0, 1) Output: 1\n",
            "Input: (0, 0) Output: 1\n"
          ]
        }
      ]
    },
    {
      "cell_type": "markdown",
      "source": [
        "COMPUERTA NOR"
      ],
      "metadata": {
        "id": "woxYaqJKOP9R"
      }
    },
    {
      "cell_type": "code",
      "source": [
        "#importamos la libreria Numpy (PASO1)\n",
        "import numpy as np #libreria sirve para trabajar con vectores y operaciones matematicas\n",
        "\n",
        "#Paso 2 Crear la clase\n",
        "class MccullochPittsNeuron:\n",
        "  def __init__(self, weights, threshold): #CONSTRUCTOR DE LA NEURONA\n",
        "    self.weights = np.array(weights)  #CLNVERTIMOS LOS PESS EN UN ARRAY DE NUMPY\n",
        "    self.threshold = threshold    # ASIGNAMOS EL UMBRAL DE ACTIVACION\n",
        "\n",
        "  def activate(self, inputs):\n",
        "    inputs = np.array(inputs) #Convertir las entradas en un array de numpy\n",
        "    weighted_sum = np.dot(self.weights, inputs) #Esto toma la suma ponderada\n",
        "    return 1 if weighted_sum >= self.threshold else 0 # Si la suma supera el umbral devuelve 1 si no 0\n",
        "\n",
        "    #Definir pesos y umbral\n",
        "\n",
        "weights = [-1, -1] #Pesos de la neurona\n",
        "threshold = 0  #Umbral\n",
        "\n",
        "\n",
        "#CREAR LA NEURONA\n",
        "\n",
        "neuron = MccullochPittsNeuron(weights, threshold)\n",
        "inputs_list = [(1,1),(1,0),(0,1),(0,0)]\n",
        "#Definir ñas entradas (Ejemplo de compuerta logica OR)\n",
        "\n",
        "#Evaluar la neurona\n",
        "print(\"Compuerta LOGICA NOR\\n\")\n",
        "for inputs in inputs_list:\n",
        "  output = neuron.activate(inputs)\n",
        "  print(f\"Input: {inputs} Output: {output}\")"
      ],
      "metadata": {
        "colab": {
          "base_uri": "https://localhost:8080/"
        },
        "id": "k_cipitxOS11",
        "outputId": "8e586b5d-7223-459f-843e-34a3ddac7056"
      },
      "execution_count": 7,
      "outputs": [
        {
          "output_type": "stream",
          "name": "stdout",
          "text": [
            "Compuerta LOGICA OR\n",
            "\n",
            "Input: (1, 1) Output: 0\n",
            "Input: (1, 0) Output: 0\n",
            "Input: (0, 1) Output: 0\n",
            "Input: (0, 0) Output: 1\n"
          ]
        }
      ]
    }
  ]
}