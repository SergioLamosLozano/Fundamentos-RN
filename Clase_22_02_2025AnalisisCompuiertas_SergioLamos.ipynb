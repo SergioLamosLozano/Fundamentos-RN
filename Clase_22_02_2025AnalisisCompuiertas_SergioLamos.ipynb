{
  "nbformat": 4,
  "nbformat_minor": 0,
  "metadata": {
    "colab": {
      "provenance": [],
      "authorship_tag": "ABX9TyNCnyKMZa3Vjcl+B0La0TY2",
      "include_colab_link": true
    },
    "kernelspec": {
      "name": "python3",
      "display_name": "Python 3"
    },
    "language_info": {
      "name": "python"
    }
  },
  "cells": [
    {
      "cell_type": "markdown",
      "metadata": {
        "id": "view-in-github",
        "colab_type": "text"
      },
      "source": [
        "<a href=\"https://colab.research.google.com/github/SergioLamosLozano/Fundamentos-RN/blob/main/Clase_22_02_2025AnalisisCompuiertas_SergioLamos.ipynb\" target=\"_parent\"><img src=\"https://colab.research.google.com/assets/colab-badge.svg\" alt=\"Open In Colab\"/></a>"
      ]
    },
    {
      "cell_type": "markdown",
      "source": [
        "COMPUERTA OR"
      ],
      "metadata": {
        "id": "QDksT2elOtiE"
      }
    },
    {
      "cell_type": "code",
      "source": [
        "#importamos la libreria Numpy (PASO1)\n",
        "import numpy as np #libreria sirve para trabajar con vectores y operaciones matematicas\n",
        "\n",
        "#Paso 2 Crear la clase\n",
        "class MccullochPittsNeuron:\n",
        "  def __init__(self, weights, threshold): #CONSTRUCTOR DE LA NEURONA\n",
        "    self.weights = np.array(weights)  #CLNVERTIMOS LOS PESS EN UN ARRAY DE NUMPY\n",
        "    self.threshold = threshold    # ASIGNAMOS EL UMBRAL DE ACTIVACION\n",
        "\n",
        "  def activate(self, inputs):\n",
        "    inputs = np.array(inputs) #Convertir las entradas en un array de numpy\n",
        "    weighted_sum = np.dot(self.weights, inputs) #Esto toma la suma ponderada\n",
        "    return 1 if weighted_sum >= self.threshold else 0 # Si la suma supera el umbral devuelve 1 si no 0\n",
        "\n",
        "    #Definir pesos y umbral\n",
        "\n",
        "weights = [1, 1] #Pesos de la neurona\n",
        "threshold = 1  #Umbral\n",
        "\n",
        "\n",
        "#CREAR LA NEURONA\n",
        "\n",
        "neuron = MccullochPittsNeuron(weights, threshold)\n",
        "inputs_list = [(1,1),(1,0),(0,1),(0,0)]\n",
        "#Definir ñas entradas (Ejemplo de compuerta logica OR)\n",
        "\n",
        "#Evaluar la neurona\n",
        "print(\"Compuerta LOGICA OR\\n\")\n",
        "for inputs in inputs_list:\n",
        "  output = neuron.activate(inputs)\n",
        "  print(f\"Input: {inputs} Output: {output}\")"
      ],
      "metadata": {
        "colab": {
          "base_uri": "https://localhost:8080/"
        },
        "id": "sh_5-364Oup_",
        "outputId": "6782c210-99c3-4500-857e-429f11b5facb"
      },
      "execution_count": 8,
      "outputs": [
        {
          "output_type": "stream",
          "name": "stdout",
          "text": [
            "Compuerta LOGICA OR\n",
            "\n",
            "Input: (1, 1) Output: 1\n",
            "Input: (1, 0) Output: 1\n",
            "Input: (0, 1) Output: 1\n",
            "Input: (0, 0) Output: 0\n"
          ]
        }
      ]
    },
    {
      "cell_type": "markdown",
      "source": [
        "COMPUERTA AND"
      ],
      "metadata": {
        "id": "VemT1g1eNsqF"
      }
    },
    {
      "cell_type": "code",
      "execution_count": 4,
      "metadata": {
        "colab": {
          "base_uri": "https://localhost:8080/"
        },
        "id": "AF4MejZ4Erh0",
        "outputId": "4e6538e8-7d1f-461a-ee44-d9dbee601eaf"
      },
      "outputs": [
        {
          "output_type": "stream",
          "name": "stdout",
          "text": [
            "Compuerta LOGICA OR\n",
            "\n",
            "Input: (1, 1) Output: 1\n",
            "Input: (1, 0) Output: 0\n",
            "Input: (0, 1) Output: 0\n",
            "Input: (0, 0) Output: 0\n"
          ]
        }
      ],
      "source": [
        "#importamos la libreria Numpy (PASO1)\n",
        "import numpy as np #libreria sirve para trabajar con vectores y operaciones matematicas\n",
        "\n",
        "#Paso 2 Crear la clase\n",
        "class MccullochPittsNeuron:\n",
        "  def __init__(self, weights, threshold): #CONSTRUCTOR DE LA NEURONA\n",
        "    self.weights = np.array(weights)  #CLNVERTIMOS LOS PESS EN UN ARRAY DE NUMPY\n",
        "    self.threshold = threshold    # ASIGNAMOS EL UMBRAL DE ACTIVACION\n",
        "\n",
        "  def activate(self, inputs):\n",
        "    inputs = np.array(inputs) #Convertir las entradas en un array de numpy\n",
        "    weighted_sum = np.dot(self.weights, inputs) #Esto toma la suma ponderada\n",
        "    return 1 if weighted_sum >= self.threshold else 0 # Si la suma supera el umbral devuelve 1 si no 0\n",
        "\n",
        "    #Definir pesos y umbral\n",
        "\n",
        "weights = [1, 1] #Pesos de la neurona\n",
        "threshold = 2  #Umbral\n",
        "\n",
        "\n",
        "#CREAR LA NEURONA\n",
        "\n",
        "neuron = MccullochPittsNeuron(weights, threshold)\n",
        "inputs_list = [(1,1),(1,0),(0,1),(0,0)]\n",
        "#Definir ñas entradas (Ejemplo de compuerta logica OR)\n",
        "\n",
        "#Evaluar la neurona\n",
        "print(\"Compuerta LOGICA OR\\n\")\n",
        "for inputs in inputs_list:\n",
        "  output = neuron.activate(inputs)\n",
        "  print(f\"Input: {inputs} Output: {output}\")"
      ]
    },
    {
      "cell_type": "markdown",
      "source": [
        "COMPUERTA NOT"
      ],
      "metadata": {
        "id": "eaR3eVdMNz5q"
      }
    },
    {
      "cell_type": "code",
      "source": [
        "#importamos la libreria Numpy (PASO1)\n",
        "import numpy as np #libreria sirve para trabajar con vectores y operaciones matematicas\n",
        "\n",
        "#Paso 2 Crear la clase\n",
        "class MccullochPittsNeuron:\n",
        "  def __init__(self, weights, threshold): #CONSTRUCTOR DE LA NEURONA\n",
        "    self.weights = np.array(weights)  #CLNVERTIMOS LOS PESS EN UN ARRAY DE NUMPY\n",
        "    self.threshold = threshold    # ASIGNAMOS EL UMBRAL DE ACTIVACION\n",
        "\n",
        "  def activate(self, inputs):\n",
        "    inputs = np.array(inputs) #Convertir las entradas en un array de numpy\n",
        "    weighted_sum = np.dot(self.weights, inputs) #Esto toma la suma ponderada\n",
        "    return 1 if weighted_sum >= self.threshold else 0 # Si la suma supera el umbral devuelve 1 si no 0\n",
        "\n",
        "    #Definir pesos y umbral\n",
        "\n",
        "weights = [-1] #Pesos de la neurona\n",
        "threshold = 0 #Umbral\n",
        "\n",
        "\n",
        "#CREAR LA NEURONA\n",
        "\n",
        "neuron = MccullochPittsNeuron(weights, threshold)\n",
        "inputs_list = [(1),(0)]\n",
        "#Definir ñas entradas (Ejemplo de compuerta logica OR)\n",
        "\n",
        "#Evaluar la neurona\n",
        "print(\"Compuerta LOGICA NOT\\n\")\n",
        "for inputs in inputs_list:\n",
        "  output = neuron.activate(inputs)\n",
        "  print(f\"Input: {inputs} Output: {output}\")"
      ],
      "metadata": {
        "colab": {
          "base_uri": "https://localhost:8080/"
        },
        "id": "RGtCO-7vMeSj",
        "outputId": "d7afe36f-3340-4034-b4f5-5d5b2538407a"
      },
      "execution_count": 5,
      "outputs": [
        {
          "output_type": "stream",
          "name": "stdout",
          "text": [
            "Compuerta LOGICA OR\n",
            "\n",
            "Input: 1 Output: 0\n",
            "Input: 0 Output: 1\n"
          ]
        }
      ]
    },
    {
      "cell_type": "markdown",
      "source": [
        "COMPUERTA NAND"
      ],
      "metadata": {
        "id": "tK1-eUsCODWV"
      }
    },
    {
      "cell_type": "code",
      "source": [
        "#importamos la libreria Numpy (PASO1)\n",
        "import numpy as np #libreria sirve para trabajar con vectores y operaciones matematicas\n",
        "\n",
        "#Paso 2 Crear la clase\n",
        "class MccullochPittsNeuron:\n",
        "  def __init__(self, weights, threshold): #CONSTRUCTOR DE LA NEURONA\n",
        "    self.weights = np.array(weights)  #CLNVERTIMOS LOS PESS EN UN ARRAY DE NUMPY\n",
        "    self.threshold = threshold    # ASIGNAMOS EL UMBRAL DE ACTIVACION\n",
        "\n",
        "  def activate(self, inputs):\n",
        "    inputs = np.array(inputs) #Convertir las entradas en un array de numpy\n",
        "    weighted_sum = np.dot(self.weights, inputs) #Esto toma la suma ponderada\n",
        "    return 1 if weighted_sum >= self.threshold else 0 # Si la suma supera el umbral devuelve 1 si no 0\n",
        "\n",
        "    #Definir pesos y umbral\n",
        "\n",
        "weights = [-1, -1] #Pesos de la neurona\n",
        "threshold = -1  #Umbral\n",
        "\n",
        "\n",
        "#CREAR LA NEURONA\n",
        "\n",
        "neuron = MccullochPittsNeuron(weights, threshold)\n",
        "inputs_list = [(1,1),(1,0),(0,1),(0,0)]\n",
        "#Definir ñas entradas (Ejemplo de compuerta logica OR)\n",
        "\n",
        "#Evaluar la neurona\n",
        "print(\"Compuerta LOGICA NAND\\n\")\n",
        "for inputs in inputs_list:\n",
        "  output = neuron.activate(inputs)\n",
        "  print(f\"Input: {inputs} Output: {output}\")"
      ],
      "metadata": {
        "colab": {
          "base_uri": "https://localhost:8080/"
        },
        "id": "2-D0ppPqOJTb",
        "outputId": "ea44f5aa-c36b-44b0-bf61-ccdc8f2448aa"
      },
      "execution_count": 6,
      "outputs": [
        {
          "output_type": "stream",
          "name": "stdout",
          "text": [
            "Compuerta LOGICA OR\n",
            "\n",
            "Input: (1, 1) Output: 0\n",
            "Input: (1, 0) Output: 1\n",
            "Input: (0, 1) Output: 1\n",
            "Input: (0, 0) Output: 1\n"
          ]
        }
      ]
    },
    {
      "cell_type": "markdown",
      "source": [
        "COMPUERTA NOR"
      ],
      "metadata": {
        "id": "woxYaqJKOP9R"
      }
    },
    {
      "cell_type": "code",
      "source": [
        "#importamos la libreria Numpy (PASO1)\n",
        "import numpy as np #libreria sirve para trabajar con vectores y operaciones matematicas\n",
        "\n",
        "#Paso 2 Crear la clase\n",
        "class MccullochPittsNeuron:\n",
        "  def __init__(self, weights, threshold): #CONSTRUCTOR DE LA NEURONA\n",
        "    self.weights = np.array(weights)  #CLNVERTIMOS LOS PESS EN UN ARRAY DE NUMPY\n",
        "    self.threshold = threshold    # ASIGNAMOS EL UMBRAL DE ACTIVACION\n",
        "\n",
        "  def activate(self, inputs):\n",
        "    inputs = np.array(inputs) #Convertir las entradas en un array de numpy\n",
        "    weighted_sum = np.dot(self.weights, inputs) #Esto toma la suma ponderada\n",
        "    return 1 if weighted_sum >= self.threshold else 0 # Si la suma supera el umbral devuelve 1 si no 0\n",
        "\n",
        "    #Definir pesos y umbral\n",
        "\n",
        "weights = [-1, -1] #Pesos de la neurona\n",
        "threshold = 0  #Umbral\n",
        "\n",
        "\n",
        "#CREAR LA NEURONA\n",
        "\n",
        "neuron = MccullochPittsNeuron(weights, threshold)\n",
        "inputs_list = [(1,1),(1,0),(0,1),(0,0)]\n",
        "#Definir ñas entradas (Ejemplo de compuerta logica OR)\n",
        "\n",
        "#Evaluar la neurona\n",
        "print(\"Compuerta LOGICA NOR\\n\")\n",
        "for inputs in inputs_list:\n",
        "  output = neuron.activate(inputs)\n",
        "  print(f\"Input: {inputs} Output: {output}\")"
      ],
      "metadata": {
        "colab": {
          "base_uri": "https://localhost:8080/"
        },
        "id": "k_cipitxOS11",
        "outputId": "8e586b5d-7223-459f-843e-34a3ddac7056"
      },
      "execution_count": 7,
      "outputs": [
        {
          "output_type": "stream",
          "name": "stdout",
          "text": [
            "Compuerta LOGICA OR\n",
            "\n",
            "Input: (1, 1) Output: 0\n",
            "Input: (1, 0) Output: 0\n",
            "Input: (0, 1) Output: 0\n",
            "Input: (0, 0) Output: 1\n"
          ]
        }
      ]
    },
    {
      "cell_type": "markdown",
      "source": [
        "_______________________________________"
      ],
      "metadata": {
        "id": "PkPwjwbCeN_c"
      }
    },
    {
      "cell_type": "markdown",
      "source": [],
      "metadata": {
        "id": "6l6t5UkSeRzU"
      }
    },
    {
      "cell_type": "markdown",
      "source": [
        "CODIGO PARA COMPUERTA LOGICA XOR"
      ],
      "metadata": {
        "id": "29xQMBwTd6vp"
      }
    },
    {
      "cell_type": "code",
      "source": [
        "import tensorflow as tf\n",
        "from tensorflow import keras\n",
        "import numpy as np\n",
        "\n",
        "# Datos de entrada (Ejemplo: problema binario)\n",
        "X = np.array([\n",
        "    [0, 0], [0, 1], [1, 0], [1, 1]\n",
        "])  # Entradas (2 características)\n",
        "\n",
        "# Salidas esperadas (Ejemplo: compuerta XOR)\n",
        "Y = np.array([\n",
        "    [0], [1], [1], [0]\n",
        "])  # Salidas esperadas (0 o 1)\n",
        "\n",
        "# Definir la red neuronal\n",
        "modelo = keras.Sequential([\n",
        "    keras.layers.Dense(4, activation='relu', input_shape=(2,)),  # Capa oculta con 4 neuronas y activación ReLU\n",
        "    keras.layers.Dense(4, activation='relu'),  # Segunda capa oculta con 4 neuronas\n",
        "    keras.layers.Dense(1, activation='sigmoid')  # Capa de salida con 1 neurona y activación sigmoide\n",
        "])\n",
        "\n",
        "# Compilar el modelo\n",
        "modelo.compile(optimizer='adam', loss='binary_crossentropy', metrics=['accuracy'])\n",
        "\n",
        "# Entrenar el modelo\n",
        "modelo.fit(X, Y, epochs=1000, verbose=0)  # Entrenamiento con 2000 épocas\n",
        "\n",
        "# Evaluar el modelo\n",
        "loss, accuracy = modelo.evaluate(X, Y)\n",
        "#imprimir Precision\n",
        "print(f\"Precisión del modelo: {accuracy * 100:.2f}%\")\n",
        "print(f\"Perdida del modelo: {loss * 100:.2f}%\")\n",
        "\n",
        "# Hacer predicciones\n",
        "print(\"         [Resultados]\")\n",
        "for entrada in X:\n",
        "    salida = modelo.predict(np.array([entrada]))  # Hacer la predicción\n",
        "    print(f\"Entrada: {entrada} → Salida: {salida.round()}\")  # Redondeamos la salida"
      ],
      "metadata": {
        "colab": {
          "base_uri": "https://localhost:8080/"
        },
        "id": "_X0brcoujMfe",
        "outputId": "a58f653d-52fd-478f-8ff5-58a9660cda7a"
      },
      "execution_count": 16,
      "outputs": [
        {
          "output_type": "stream",
          "name": "stdout",
          "text": [
            "\u001b[1m1/1\u001b[0m \u001b[32m━━━━━━━━━━━━━━━━━━━━\u001b[0m\u001b[37m\u001b[0m \u001b[1m0s\u001b[0m 198ms/step - accuracy: 1.0000 - loss: 0.1638\n",
            "Precisión del modelo: 100.00%\n",
            "Perdida del modelo: 16.38%\n",
            "         [Resultados]\n",
            "\u001b[1m1/1\u001b[0m \u001b[32m━━━━━━━━━━━━━━━━━━━━\u001b[0m\u001b[37m\u001b[0m \u001b[1m0s\u001b[0m 66ms/step\n",
            "Entrada: [0 0] → Salida: [[0.]]\n",
            "\u001b[1m1/1\u001b[0m \u001b[32m━━━━━━━━━━━━━━━━━━━━\u001b[0m\u001b[37m\u001b[0m \u001b[1m0s\u001b[0m 34ms/step\n",
            "Entrada: [0 1] → Salida: [[1.]]\n",
            "\u001b[1m1/1\u001b[0m \u001b[32m━━━━━━━━━━━━━━━━━━━━\u001b[0m\u001b[37m\u001b[0m \u001b[1m0s\u001b[0m 37ms/step\n",
            "Entrada: [1 0] → Salida: [[1.]]\n",
            "\u001b[1m1/1\u001b[0m \u001b[32m━━━━━━━━━━━━━━━━━━━━\u001b[0m\u001b[37m\u001b[0m \u001b[1m0s\u001b[0m 37ms/step\n",
            "Entrada: [1 1] → Salida: [[0.]]\n"
          ]
        }
      ]
    }
  ]
}