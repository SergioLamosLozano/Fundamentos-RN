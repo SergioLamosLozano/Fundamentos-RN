{
  "nbformat": 4,
  "nbformat_minor": 0,
  "metadata": {
    "colab": {
      "provenance": [],
      "authorship_tag": "ABX9TyN8ZXHTw43W5iDyENT/0Jb5",
      "include_colab_link": true
    },
    "kernelspec": {
      "name": "python3",
      "display_name": "Python 3"
    },
    "language_info": {
      "name": "python"
    }
  },
  "cells": [
    {
      "cell_type": "markdown",
      "metadata": {
        "id": "view-in-github",
        "colab_type": "text"
      },
      "source": [
        "<a href=\"https://colab.research.google.com/github/SergioLamosLozano/fundametos-RN/blob/main/Clase_15_02__Analis_compuerta_OR_SERGIOLAMOS.ipynb\" target=\"_parent\"><img src=\"https://colab.research.google.com/assets/colab-badge.svg\" alt=\"Open In Colab\"/></a>"
      ]
    },
    {
      "cell_type": "markdown",
      "source": [
        "**PASO 1**"
      ],
      "metadata": {
        "id": "6eaLX0thdYy_"
      }
    },
    {
      "cell_type": "code",
      "execution_count": 1,
      "metadata": {
        "id": "vdGWqaj2aH9o"
      },
      "outputs": [],
      "source": [
        "#importamos la libreria Numpy (PASO1)\n",
        "import numpy as np #libreria sirve para trabajar con vectores y operaciones matematicas"
      ]
    },
    {
      "cell_type": "markdown",
      "source": [
        "**PASO 2**"
      ],
      "metadata": {
        "id": "VJfi016QdcgG"
      }
    },
    {
      "cell_type": "code",
      "source": [
        "#Paso 2 Crear la clase\n",
        "class MccullochPittsNeuron:\n",
        "  def __init__(self, weights, threshold): #CONSTRUCTOR DE LA NEURONA\n",
        "    self.weights = np.array(weights)  #CLNVERTIMOS LOS PESS EN UN ARRAY DE NUMPY\n",
        "    self.threshold = threshold    # ASIGNAMOS EL UMBRAL DE ACTIVACION\n",
        "\n",
        "  def activate(self, inputs):\n",
        "    inputs = np.array(inputs) #Convertir las entradas en un array de numpy\n",
        "    weighted_sum = np.dot(self.weights, inputs) #Esto toma la suma ponderada\n",
        "    return 1 if weighted_sum >= self.threshold else 0 # Si la suma supera el umbral devuelve 1 si no 0"
      ],
      "metadata": {
        "id": "IrXWtV0qb1XC"
      },
      "execution_count": 2,
      "outputs": []
    },
    {
      "cell_type": "markdown",
      "source": [
        "**PASO 3**"
      ],
      "metadata": {
        "id": "L6l00x61dfGG"
      }
    },
    {
      "cell_type": "code",
      "source": [
        "#Definir pesos y umbral\n",
        "\n",
        "weights = [1, 1] #Pesos de la neurona\n",
        "threshold = 1  #Umbral"
      ],
      "metadata": {
        "id": "ijnJpNrZfCVv"
      },
      "execution_count": 6,
      "outputs": []
    },
    {
      "cell_type": "markdown",
      "source": [
        "**PASO 4**"
      ],
      "metadata": {
        "id": "xTRjNqNIeZEe"
      }
    },
    {
      "cell_type": "code",
      "source": [
        "#CREAR LA NEURONA\n",
        "\n",
        "neuron = MccullochPittsNeuron(weights, threshold)\n",
        "inputs_list = [(0,0),(0,1),(1,0),(1,1)]\n",
        "#Definir ñas entradas (Ejemplo de compuerta logica OR)"
      ],
      "metadata": {
        "id": "W94bHrKof6IU"
      },
      "execution_count": 4,
      "outputs": []
    },
    {
      "cell_type": "markdown",
      "source": [
        "**PASO 5**"
      ],
      "metadata": {
        "id": "3S7TJSCRe-Qw"
      }
    },
    {
      "cell_type": "code",
      "source": [
        "#Evaluar la neurona\n",
        "print(\"Compuerta LOGICA OR\\n\")\n",
        "for inputs in inputs_list:\n",
        "  output = neuron.activate(inputs)\n",
        "  print(f\"Input: {inputs} Output: {output}\")"
      ],
      "metadata": {
        "colab": {
          "base_uri": "https://localhost:8080/"
        },
        "id": "VUgRzVglgh2i",
        "outputId": "08b1d106-d438-4884-fdec-4e47695f736a"
      },
      "execution_count": 5,
      "outputs": [
        {
          "output_type": "stream",
          "name": "stdout",
          "text": [
            "Compuerta LOGICA OR\n",
            "\n",
            "Input: (0, 0) Output: 0\n",
            "Input: (0, 1) Output: 0\n",
            "Input: (1, 0) Output: 0\n",
            "Input: (1, 1) Output: 1\n"
          ]
        }
      ]
    }
  ]
}