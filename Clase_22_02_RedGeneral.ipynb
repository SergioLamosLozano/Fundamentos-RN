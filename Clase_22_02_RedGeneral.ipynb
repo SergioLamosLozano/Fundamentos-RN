{
  "nbformat": 4,
  "nbformat_minor": 0,
  "metadata": {
    "colab": {
      "provenance": [],
      "authorship_tag": "ABX9TyMSldZSx56d+8n/gJNE8kG1",
      "include_colab_link": true
    },
    "kernelspec": {
      "name": "python3",
      "display_name": "Python 3"
    },
    "language_info": {
      "name": "python"
    }
  },
  "cells": [
    {
      "cell_type": "markdown",
      "metadata": {
        "id": "view-in-github",
        "colab_type": "text"
      },
      "source": [
        "<a href=\"https://colab.research.google.com/github/SergioLamosLozano/Fundamentos-RN/blob/main/Clase_22_02_RedGeneral.ipynb\" target=\"_parent\"><img src=\"https://colab.research.google.com/assets/colab-badge.svg\" alt=\"Open In Colab\"/></a>"
      ]
    },
    {
      "cell_type": "markdown",
      "source": [
        "**Red Neuronal General con TensorFlow y Keras**"
      ],
      "metadata": {
        "id": "_Qos-CLFoMRz"
      }
    },
    {
      "cell_type": "code",
      "execution_count": 1,
      "metadata": {
        "colab": {
          "base_uri": "https://localhost:8080/"
        },
        "id": "BsKj_HWkoLX1",
        "outputId": "d8fae959-813f-4c34-d40d-65497a60fcda"
      },
      "outputs": [
        {
          "output_type": "stream",
          "name": "stderr",
          "text": [
            "/usr/local/lib/python3.11/dist-packages/keras/src/layers/core/dense.py:87: UserWarning: Do not pass an `input_shape`/`input_dim` argument to a layer. When using Sequential models, prefer using an `Input(shape)` object as the first layer in the model instead.\n",
            "  super().__init__(activity_regularizer=activity_regularizer, **kwargs)\n"
          ]
        },
        {
          "output_type": "stream",
          "name": "stdout",
          "text": [
            "\u001b[1m1/1\u001b[0m \u001b[32m━━━━━━━━━━━━━━━━━━━━\u001b[0m\u001b[37m\u001b[0m \u001b[1m0s\u001b[0m 215ms/step - accuracy: 0.5000 - loss: 0.6931\n",
            "Precisión del modelo: 50.00%\n",
            "Perdida del modelo: 69.31%\n",
            "         [Resultados]\n",
            "\u001b[1m1/1\u001b[0m \u001b[32m━━━━━━━━━━━━━━━━━━━━\u001b[0m\u001b[37m\u001b[0m \u001b[1m0s\u001b[0m 87ms/step\n",
            "Entrada: [0 0] → Salida: [[0.]]\n",
            "\u001b[1m1/1\u001b[0m \u001b[32m━━━━━━━━━━━━━━━━━━━━\u001b[0m\u001b[37m\u001b[0m \u001b[1m0s\u001b[0m 41ms/step\n",
            "Entrada: [0 1] → Salida: [[0.]]\n",
            "\u001b[1m1/1\u001b[0m \u001b[32m━━━━━━━━━━━━━━━━━━━━\u001b[0m\u001b[37m\u001b[0m \u001b[1m0s\u001b[0m 40ms/step\n",
            "Entrada: [1 0] → Salida: [[0.]]\n",
            "\u001b[1m1/1\u001b[0m \u001b[32m━━━━━━━━━━━━━━━━━━━━\u001b[0m\u001b[37m\u001b[0m \u001b[1m0s\u001b[0m 44ms/step\n",
            "Entrada: [1 1] → Salida: [[0.]]\n"
          ]
        }
      ],
      "source": [
        "import tensorflow as tf\n",
        "from tensorflow import keras\n",
        "import numpy as np\n",
        "\n",
        "# Datos de entrada (Ejemplo: problema binario)\n",
        "X = np.array([\n",
        "    [0, 0], [0, 1], [1, 0], [1, 1]\n",
        "])  # Entradas (2 características)\n",
        "\n",
        "# Salidas esperadas (Ejemplo: compuerta XOR)\n",
        "Y = np.array([\n",
        "    [0], [1], [1], [0]\n",
        "])  # Salidas esperadas (0 o 1)\n",
        "\n",
        "# Definir la red neuronal\n",
        "modelo = keras.Sequential([\n",
        "    keras.layers.Dense(4, activation='relu', input_shape=(2,)),  # Capa oculta con 4 neuronas y activación ReLU\n",
        "    keras.layers.Dense(4, activation='relu'),  # Segunda capa oculta con 4 neuronas\n",
        "    keras.layers.Dense(1, activation='sigmoid')  # Capa de salida con 1 neurona y activación sigmoide\n",
        "])\n",
        "\n",
        "# Compilar el modelo\n",
        "modelo.compile(optimizer='adam', loss='binary_crossentropy', metrics=['accuracy'])\n",
        "\n",
        "# Entrenar el modelo\n",
        "modelo.fit(X, Y, epochs=10, verbose=0)  # Entrenamiento con 2000 épocas\n",
        "\n",
        "# Evaluar el modelo\n",
        "loss, accuracy = modelo.evaluate(X, Y)\n",
        "#imprimir Precision\n",
        "print(f\"Precisión del modelo: {accuracy * 100:.2f}%\")\n",
        "print(f\"Perdida del modelo: {loss * 1000:.2f}%\")\n",
        "\n",
        "# Hacer predicciones\n",
        "print(\"         [Resultados]\")\n",
        "for entrada in X:\n",
        "    salida = modelo.predict(np.array([entrada]))  # Hacer la predicción\n",
        "    print(f\"Entrada: {entrada} → Salida: {salida.round()}\")  # Redondeamos la salida"
      ]
    }
  ]
}