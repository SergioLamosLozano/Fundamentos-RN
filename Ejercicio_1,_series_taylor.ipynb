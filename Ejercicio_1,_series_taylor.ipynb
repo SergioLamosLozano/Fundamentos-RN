{
  "nbformat": 4,
  "nbformat_minor": 0,
  "metadata": {
    "colab": {
      "provenance": [],
      "authorship_tag": "ABX9TyMt6aJikL77SQcLOTwUdw2H",
      "include_colab_link": true
    },
    "kernelspec": {
      "name": "python3",
      "display_name": "Python 3"
    },
    "language_info": {
      "name": "python"
    }
  },
  "cells": [
    {
      "cell_type": "markdown",
      "metadata": {
        "id": "view-in-github",
        "colab_type": "text"
      },
      "source": [
        "<a href=\"https://colab.research.google.com/github/SergioLamosLozano/Fundamentos-RN/blob/main/Ejercicio_1%2C_series_taylor.ipynb\" target=\"_parent\"><img src=\"https://colab.research.google.com/assets/colab-badge.svg\" alt=\"Open In Colab\"/></a>"
      ]
    },
    {
      "cell_type": "markdown",
      "source": [
        "# **Planteamiento del ejercicio 1: Verificación de la serie de Taylor para sin⁡〖(X)〗 en X  =0.5 radianes sin⁡〖(X)〗**"
      ],
      "metadata": {
        "id": "BmuDVeGNWUv_"
      }
    },
    {
      "cell_type": "code",
      "execution_count": 3,
      "metadata": {
        "colab": {
          "base_uri": "https://localhost:8080/"
        },
        "id": "_wVhuO4XWSp2",
        "outputId": "72454fc9-14fc-4946-80d3-e8434dd16e46"
      },
      "outputs": [
        {
          "output_type": "stream",
          "name": "stdout",
          "text": [
            "Verificacion de ña serie de Taylor para sin(0.5):\n",
            "Valor real de sin(0.5) = 0.479426\n",
            "Termino 1: 0.500000\n",
            "Termino 3: -0.020833\n",
            "Termino 5: 0.000260\n",
            "Aproximacion (suma): 0.479427\n",
            "Error absoluto: 0.000002\n"
          ]
        }
      ],
      "source": [
        "import numpy as np\n",
        "\n",
        "#Valor de x\n",
        "x = 0.5 #En radianes (~28.6°)\n",
        "\n",
        "#Valor real de sin(x)\n",
        "sin_real = np.sin(x)\n",
        "\n",
        "#Terminos de la serie de taylor para sin(x) alrededor de 0\n",
        "#sin(x) = x - x^3/3! + x^5/5! - ....\n",
        "term_1 = x\n",
        "term_3 = (-x**3)/6 #Tercer termino: -x^3/3!(3!-6)\n",
        "term_5 = (x**5)/120 #Quinto termino: x^5/5!(5! = 120)\n",
        "\n",
        "\n",
        "#suma de los terminos\n",
        "taylor_approx = term_1 + term_3 + term_5\n",
        "\n",
        "#resutlados\n",
        "print(f\"Verificacion de ña serie de Taylor para sin({x}):\")\n",
        "print(f\"Valor real de sin({x}) = {sin_real:.6f}\")\n",
        "print(f\"Termino 1: {term_1:.6f}\")\n",
        "print(f\"Termino 3: {term_3:.6f}\")\n",
        "print(f\"Termino 5: {term_5:.6f}\")\n",
        "print(f\"Aproximacion (suma): {taylor_approx:.6f}\")\n",
        "print(f\"Error absoluto: {abs(sin_real - taylor_approx):.6f}\")"
      ]
    }
  ]
}